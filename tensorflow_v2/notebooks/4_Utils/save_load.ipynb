{
 "cells": [
  {
   "cell_type": "code",
   "execution_count": 1,
   "metadata": {},
   "outputs": [],
   "source": [
    "from __future__ import absolute_import, division, print_function\n",
    "\n",
    "import tensorflow as tf\n",
    "import numpy as np"
   ]
  },
  {
   "cell_type": "code",
   "execution_count": 2,
   "metadata": {},
   "outputs": [],
   "source": [
    "# MNIST dataset parameters.\n",
    "num_classes = 10 # 0 to 9 digits\n",
    "num_features = 784 # 28*28\n",
    "\n",
    "# Training parameters.\n",
    "learning_rate = 0.01\n",
    "training_steps = 1000\n",
    "batch_size = 256\n",
    "display_step = 50"
   ]
  },
  {
   "cell_type": "code",
   "execution_count": 3,
   "metadata": {},
   "outputs": [],
   "source": [
    "# Prepare MNIST data.\n",
    "from tensorflow.keras.datasets import mnist\n",
    "(x_train, y_train), (x_test, y_test) = mnist.load_data()\n",
    "# Convert to float32.\n",
    "x_train, x_test = np.array(x_train, np.float32), np.array(x_test, np.float32)\n",
    "# Flatten images to 1-D vector of 784 features (28*28).\n",
    "x_train, x_test = x_train.reshape([-1, num_features]), x_test.reshape([-1, num_features])\n",
    "# Normalize images value from [0, 255] to [0, 1].\n",
    "x_train, x_test = x_train / 255., x_test / 255."
   ]
  },
  {
   "cell_type": "code",
   "execution_count": 4,
   "metadata": {},
   "outputs": [],
   "source": [
    "# Use tf.data API to shuffle and batch data.\n",
    "train_data = tf.data.Dataset.from_tensor_slices((x_train, y_train))\n",
    "train_data = train_data.repeat().shuffle(5000).batch(batch_size).prefetch(1)"
   ]
  },
  {
   "cell_type": "code",
   "execution_count": 5,
   "metadata": {},
   "outputs": [],
   "source": [
    "# Weight of shape [784, 10], the 28*28 image features, and total number of classes.\n",
    "W = tf.Variable(tf.random.normal([num_features, num_classes]), name=\"weight\")\n",
    "# Bias of shape [10], the total number of classes.\n",
    "b = tf.Variable(tf.zeros([num_classes]), name=\"bias\")\n",
    "\n",
    "# Logistic regression (Wx + b).\n",
    "def logistic_regression(x):\n",
    "    # Apply softmax to normalize the logits to a probability distribution.\n",
    "    return tf.nn.softmax(tf.matmul(x, W) + b)\n",
    "\n",
    "# Cross-Entropy loss function.\n",
    "def cross_entropy(y_pred, y_true):\n",
    "    # Encode label to a one hot vector.\n",
    "    y_true = tf.one_hot(y_true, depth=num_classes)\n",
    "    # Clip prediction values to avoid log(0) error.\n",
    "    y_pred = tf.clip_by_value(y_pred, 1e-9, 1.)\n",
    "    # Compute cross-entropy.\n",
    "    return tf.reduce_mean(-tf.reduce_sum(y_true * tf.math.log(y_pred)))\n",
    "\n",
    "# Accuracy metric.\n",
    "def accuracy(y_pred, y_true):\n",
    "    # Predicted class is the index of highest score in prediction vector (i.e. argmax).\n",
    "    correct_prediction = tf.equal(tf.argmax(y_pred, 1), tf.cast(y_true, tf.int64))\n",
    "    return tf.reduce_mean(tf.cast(correct_prediction, tf.float32))\n",
    "\n",
    "# Adam optimizer.\n",
    "optimizer = tf.optimizers.Adam(learning_rate)"
   ]
  },
  {
   "cell_type": "code",
   "execution_count": 6,
   "metadata": {},
   "outputs": [],
   "source": [
    "# Optimization process. \n",
    "def run_optimization(x, y):\n",
    "    # Wrap computation inside a GradientTape for automatic differentiation.\n",
    "    with tf.GradientTape() as g:\n",
    "        pred = logistic_regression(x)\n",
    "        loss = cross_entropy(pred, y)\n",
    "\n",
    "        # Compute gradients.\n",
    "        gradients = g.gradient(loss, [W, b])\n",
    "\n",
    "        # Update W and b following gradients.\n",
    "        optimizer.apply_gradients(zip(gradients, [W, b]))"
   ]
  },
  {
   "cell_type": "code",
   "execution_count": 7,
   "metadata": {},
   "outputs": [
    {
     "name": "stdout",
     "output_type": "stream",
     "text": [
      "step: 50, loss: 523.838501, accuracy: 0.644531\n",
      "step: 100, loss: 229.649292, accuracy: 0.781250\n",
      "step: 150, loss: 288.778198, accuracy: 0.773438\n",
      "step: 200, loss: 190.309570, accuracy: 0.828125\n",
      "step: 250, loss: 182.071304, accuracy: 0.851562\n",
      "step: 300, loss: 169.734589, accuracy: 0.859375\n",
      "step: 350, loss: 159.590240, accuracy: 0.871094\n",
      "step: 400, loss: 144.732803, accuracy: 0.871094\n",
      "step: 450, loss: 109.108612, accuracy: 0.882812\n",
      "step: 500, loss: 97.230942, accuracy: 0.902344\n",
      "step: 550, loss: 127.493431, accuracy: 0.894531\n",
      "step: 600, loss: 98.874809, accuracy: 0.914062\n",
      "step: 650, loss: 156.520752, accuracy: 0.882812\n",
      "step: 700, loss: 118.649338, accuracy: 0.871094\n",
      "step: 750, loss: 136.601654, accuracy: 0.859375\n",
      "step: 800, loss: 183.427475, accuracy: 0.839844\n",
      "step: 850, loss: 81.577637, accuracy: 0.910156\n",
      "step: 900, loss: 98.724525, accuracy: 0.914062\n",
      "step: 950, loss: 84.677414, accuracy: 0.886719\n",
      "step: 1000, loss: 114.568420, accuracy: 0.875000\n"
     ]
    }
   ],
   "source": [
    "# Run training for the given number of steps.\n",
    "for step, (batch_x, batch_y) in enumerate(train_data.take(training_steps), 1):\n",
    "    # Run the optimization to update W and b values.\n",
    "    run_optimization(batch_x, batch_y)\n",
    "    \n",
    "    if step % display_step == 0:\n",
    "        pred = logistic_regression(batch_x)\n",
    "        loss = cross_entropy(pred, batch_y)\n",
    "        acc = accuracy(pred, batch_y)\n",
    "        print(\"step: %i, loss: %f, accuracy: %f\" % (step, loss, acc))"
   ]
  },
  {
   "cell_type": "code",
   "execution_count": 10,
   "metadata": {},
   "outputs": [],
   "source": [
    "weights = {'w':W, 'b':b, 'p':optimizer}"
   ]
  },
  {
   "cell_type": "code",
   "execution_count": 12,
   "metadata": {},
   "outputs": [],
   "source": [
    "ckpt = tf.train.Checkpoint(**weights)\n",
    "\n",
    "ckpt_man = tf.train.CheckpointManager(ckpt, '/tmp/ckpt_1020', max_to_keep=2)"
   ]
  },
  {
   "cell_type": "code",
   "execution_count": 13,
   "metadata": {},
   "outputs": [
    {
     "data": {
      "text/plain": [
       "'/tmp/ckpt_1020/ckpt-1'"
      ]
     },
     "execution_count": 13,
     "metadata": {},
     "output_type": "execute_result"
    }
   ],
   "source": [
    "ckpt_man.save()"
   ]
  },
  {
   "cell_type": "code",
   "execution_count": 17,
   "metadata": {},
   "outputs": [
    {
     "data": {
      "text/plain": [
       "'/tmp/ckpt_1020/ckpt-1'"
      ]
     },
     "execution_count": 17,
     "metadata": {},
     "output_type": "execute_result"
    }
   ],
   "source": [
    "ckpt_man.latest_checkpoint"
   ]
  },
  {
   "cell_type": "code",
   "execution_count": 19,
   "metadata": {},
   "outputs": [
    {
     "data": {
      "text/plain": [
       "<tensorflow.python.training.tracking.util.CheckpointLoadStatus at 0x7f5e46fc40d0>"
      ]
     },
     "execution_count": 19,
     "metadata": {},
     "output_type": "execute_result"
    }
   ],
   "source": [
    "weihts_new = {'w':W}\n",
    "ckpt_new = tf.train.Checkpoint(**weihts_new)\n",
    "\n",
    "ckpt_new.restore(ckpt_man.latest_checkpoint)"
   ]
  },
  {
   "cell_type": "code",
   "execution_count": 21,
   "metadata": {},
   "outputs": [
    {
     "data": {
      "text/plain": [
       "<tf.Variable 'weight:0' shape=(784, 10) dtype=float32, numpy=\n",
       "array([[-1.1695577 , -0.41888148,  0.12159554, ..., -1.7604383 ,\n",
       "         2.2348008 , -0.04190422],\n",
       "       [-1.3861948 , -1.112822  ,  1.5980235 , ...,  0.44169724,\n",
       "        -0.9291492 ,  1.4813246 ],\n",
       "       [-0.28948402,  0.9352118 , -1.7354714 , ...,  0.9180372 ,\n",
       "         0.13124667, -1.0968425 ],\n",
       "       ...,\n",
       "       [-1.8133441 , -0.35420847, -0.42299095, ..., -0.1529866 ,\n",
       "         1.005074  ,  0.9830429 ],\n",
       "       [ 2.14774   ,  1.7976533 ,  1.7712709 , ...,  0.51007   ,\n",
       "        -0.09013459,  0.19183676],\n",
       "       [-0.42903814, -0.8398712 , -0.57063645, ..., -0.18059322,\n",
       "         1.6715573 ,  0.6027292 ]], dtype=float32)>"
      ]
     },
     "execution_count": 21,
     "metadata": {},
     "output_type": "execute_result"
    }
   ],
   "source": [
    "W"
   ]
  },
  {
   "cell_type": "code",
   "execution_count": 23,
   "metadata": {},
   "outputs": [
    {
     "data": {
      "text/plain": [
       "<tf.Variable 'weight:0' shape=(784, 10) dtype=float32, numpy=\n",
       "array([[-1.1695577 , -0.41888148,  0.12159554, ..., -1.7604383 ,\n",
       "         2.2348008 , -0.04190422],\n",
       "       [-1.3861948 , -1.112822  ,  1.5980235 , ...,  0.44169724,\n",
       "        -0.9291492 ,  1.4813246 ],\n",
       "       [-0.28948402,  0.9352118 , -1.7354714 , ...,  0.9180372 ,\n",
       "         0.13124667, -1.0968425 ],\n",
       "       ...,\n",
       "       [-1.8133441 , -0.35420847, -0.42299095, ..., -0.1529866 ,\n",
       "         1.005074  ,  0.9830429 ],\n",
       "       [ 2.14774   ,  1.7976533 ,  1.7712709 , ...,  0.51007   ,\n",
       "        -0.09013459,  0.19183676],\n",
       "       [-0.42903814, -0.8398712 , -0.57063645, ..., -0.18059322,\n",
       "         1.6715573 ,  0.6027292 ]], dtype=float32)>"
      ]
     },
     "execution_count": 23,
     "metadata": {},
     "output_type": "execute_result"
    }
   ],
   "source": [
    "weihts_new['w']"
   ]
  },
  {
   "cell_type": "code",
   "execution_count": 29,
   "metadata": {},
   "outputs": [
    {
     "name": "stdout",
     "output_type": "stream",
     "text": [
      "step: 100, loss: 2.181360, accuracy: 0.949219\n",
      "step: 200, loss: 2.179241, accuracy: 0.957031\n",
      "step: 300, loss: 2.182994, accuracy: 0.925781\n",
      "step: 400, loss: 2.177568, accuracy: 0.968750\n",
      "step: 500, loss: 2.175834, accuracy: 0.980469\n",
      "step: 600, loss: 2.178375, accuracy: 0.960938\n",
      "step: 700, loss: 2.175339, accuracy: 0.976562\n",
      "step: 800, loss: 2.174883, accuracy: 0.976562\n",
      "step: 900, loss: 2.177787, accuracy: 0.964844\n",
      "step: 1000, loss: 2.175838, accuracy: 0.976562\n"
     ]
    }
   ],
   "source": [
    "from tensorflow.keras import Model, layers\n",
    "# MNIST dataset parameters.\n",
    "num_classes = 10 # 0 to 9 digits\n",
    "num_features = 784 # 28*28\n",
    "\n",
    "# Training parameters.\n",
    "learning_rate = 0.01\n",
    "training_steps = 1000\n",
    "batch_size = 256\n",
    "display_step = 100\n",
    "\n",
    "# Create TF Model.\n",
    "class NeuralNet(Model):\n",
    "    # Set layers.\n",
    "    def __init__(self):\n",
    "        super(NeuralNet, self).__init__(name=\"NeuralNet\")\n",
    "        # First fully-connected hidden layer.\n",
    "        self.fc1 = layers.Dense(64, activation=tf.nn.relu)\n",
    "        # Second fully-connected hidden layer.\n",
    "        self.fc2 = layers.Dense(128, activation=tf.nn.relu)\n",
    "        # Third fully-connecter hidden layer.\n",
    "        self.out = layers.Dense(num_classes, activation=tf.nn.softmax)\n",
    "        \n",
    "\n",
    "    # Set forward pass.\n",
    "    def call(self, x, is_training=False):\n",
    "        x = self.fc1(x)\n",
    "        x = self.out(x)\n",
    "        if not is_training:\n",
    "            # tf cross entropy expect logits without softmax, so only\n",
    "            # apply softmax when not training.\n",
    "            x = tf.nn.softmax(x)\n",
    "        return x\n",
    "\n",
    "# Build neural network model.\n",
    "neural_net = NeuralNet()\n",
    "\n",
    "# Cross-Entropy loss function.\n",
    "def cross_entropy(y_pred, y_true):\n",
    "    y_true = tf.cast(y_true, tf.int64)\n",
    "    crossentropy = tf.nn.sparse_softmax_cross_entropy_with_logits(labels=y_true, logits=y_pred)\n",
    "    return tf.reduce_mean(crossentropy)\n",
    "\n",
    "# Accuracy metric.\n",
    "def accuracy(y_pred, y_true):\n",
    "    # Predicted class is the index of highest score in prediction vector (i.e. argmax).\n",
    "    correct_prediction = tf.equal(tf.argmax(y_pred, 1), tf.cast(y_true, tf.int64))\n",
    "    return tf.reduce_mean(tf.cast(correct_prediction, tf.float32))\n",
    "\n",
    "# Adam optimizer.\n",
    "optimizer = tf.optimizers.Adam(learning_rate)\n",
    "\n",
    "# Optimization process. \n",
    "def run_optimization(x, y):\n",
    "    # Wrap computation inside a GradientTape for automatic differentiation.\n",
    "    with tf.GradientTape() as g:\n",
    "        pred = neural_net(x, is_training=True)\n",
    "        loss = cross_entropy(pred, y)\n",
    "\n",
    "        # Compute gradients.\n",
    "        gradients = g.gradient(loss, neural_net.trainable_variables)\n",
    "\n",
    "        # Update W and b following gradients.\n",
    "        optimizer.apply_gradients(zip(gradients, neural_net.trainable_variables))\n",
    "        \n",
    "\n",
    "# Run training for the given number of steps.\n",
    "for step, (batch_x, batch_y) in enumerate(train_data.take(training_steps), 1):\n",
    "    # Run the optimization to update W and b values.\n",
    "    run_optimization(batch_x, batch_y)\n",
    "    \n",
    "    if step % display_step == 0:\n",
    "        pred = neural_net(batch_x, is_training=False)\n",
    "        loss = cross_entropy(pred, batch_y)\n",
    "        acc = accuracy(pred, batch_y)\n",
    "        print(\"step: %i, loss: %f, accuracy: %f\" % (step, loss, acc))"
   ]
  },
  {
   "cell_type": "code",
   "execution_count": 26,
   "metadata": {},
   "outputs": [],
   "source": [
    "neural_net.save_weights('/tmp/tf_models')"
   ]
  },
  {
   "cell_type": "code",
   "execution_count": 30,
   "metadata": {},
   "outputs": [
    {
     "name": "stdout",
     "output_type": "stream",
     "text": [
      "WARNING:tensorflow:Skipping full serialization of Keras layer <tensorflow.python.keras.layers.core.Dense object at 0x7f5e464e5390>, because it is not built.\n",
      "WARNING:tensorflow:From /home/lorineluo/anaconda3/envs/tf2/lib/python3.7/site-packages/tensorflow/python/ops/resource_variable_ops.py:1817: calling BaseResourceVariable.__init__ (from tensorflow.python.ops.resource_variable_ops) with constraint is deprecated and will be removed in a future version.\n",
      "Instructions for updating:\n",
      "If using Keras pass *_constraint arguments to layers.\n",
      "INFO:tensorflow:Assets written to: /tmp/tf_models2/assets\n"
     ]
    }
   ],
   "source": [
    "neural_net.save('/tmp/tf_models2')"
   ]
  },
  {
   "cell_type": "code",
   "execution_count": 31,
   "metadata": {},
   "outputs": [
    {
     "data": {
      "text/plain": [
       "<tf.Tensor: shape=(256, 10), dtype=float32, numpy=\n",
       "array([[0.08533674, 0.23196931, 0.08533674, ..., 0.08533674, 0.08533674,\n",
       "        0.08533674],\n",
       "       [0.08533676, 0.08533676, 0.08533676, ..., 0.23196916, 0.08533676,\n",
       "        0.08533683],\n",
       "       [0.08533674, 0.08533674, 0.08533674, ..., 0.08533674, 0.08533674,\n",
       "        0.08533674],\n",
       "       ...,\n",
       "       [0.23196931, 0.08533674, 0.08533674, ..., 0.08533674, 0.08533674,\n",
       "        0.08533674],\n",
       "       [0.08533675, 0.08533674, 0.08533674, ..., 0.08533674, 0.08533674,\n",
       "        0.08533674],\n",
       "       [0.08582827, 0.08582827, 0.08593269, ..., 0.0858283 , 0.08914372,\n",
       "        0.08597091]], dtype=float32)>"
      ]
     },
     "execution_count": 31,
     "metadata": {},
     "output_type": "execute_result"
    }
   ],
   "source": [
    "neural_net(batch_x)"
   ]
  },
  {
   "cell_type": "code",
   "execution_count": 33,
   "metadata": {},
   "outputs": [
    {
     "name": "stdout",
     "output_type": "stream",
     "text": [
      "WARNING:tensorflow:No training configuration found in save file, so the model was *not* compiled. Compile it manually.\n"
     ]
    }
   ],
   "source": [
    "m = tf.keras.models.load_model('/tmp/tf_models2')"
   ]
  },
  {
   "cell_type": "code",
   "execution_count": 34,
   "metadata": {},
   "outputs": [
    {
     "data": {
      "text/plain": [
       "<tf.Tensor: shape=(256, 10), dtype=float32, numpy=\n",
       "array([[0.08533674, 0.2319693 , 0.08533674, ..., 0.08533674, 0.08533674,\n",
       "        0.08533674],\n",
       "       [0.08533675, 0.08533675, 0.08533675, ..., 0.23196913, 0.08533675,\n",
       "        0.08533682],\n",
       "       [0.08533674, 0.08533674, 0.08533674, ..., 0.08533674, 0.08533674,\n",
       "        0.08533674],\n",
       "       ...,\n",
       "       [0.2319693 , 0.08533674, 0.08533674, ..., 0.08533674, 0.08533674,\n",
       "        0.08533674],\n",
       "       [0.08533676, 0.08533675, 0.08533675, ..., 0.08533675, 0.08533675,\n",
       "        0.08533675],\n",
       "       [0.08582828, 0.08582828, 0.08593269, ..., 0.08582831, 0.08914372,\n",
       "        0.08597092]], dtype=float32)>"
      ]
     },
     "execution_count": 34,
     "metadata": {},
     "output_type": "execute_result"
    }
   ],
   "source": [
    "m(batch_x)"
   ]
  },
  {
   "cell_type": "code",
   "execution_count": null,
   "metadata": {},
   "outputs": [],
   "source": []
  }
 ],
 "metadata": {
  "kernelspec": {
   "display_name": "tf2",
   "language": "python",
   "name": "tf2"
  },
  "language_info": {
   "codemirror_mode": {
    "name": "ipython",
    "version": 3
   },
   "file_extension": ".py",
   "mimetype": "text/x-python",
   "name": "python",
   "nbconvert_exporter": "python",
   "pygments_lexer": "ipython3",
   "version": "3.7.7"
  }
 },
 "nbformat": 4,
 "nbformat_minor": 4
}
