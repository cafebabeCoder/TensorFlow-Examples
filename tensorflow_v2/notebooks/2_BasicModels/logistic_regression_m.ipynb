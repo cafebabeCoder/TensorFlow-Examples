{
 "cells": [
  {
   "cell_type": "code",
   "execution_count": 3,
   "metadata": {},
   "outputs": [],
   "source": [
    "import tensorflow as tf\n",
    "import numpy as np"
   ]
  },
  {
   "cell_type": "code",
   "execution_count": 126,
   "metadata": {},
   "outputs": [],
   "source": [
    "from tensorflow.keras.datasets import mnist"
   ]
  },
  {
   "cell_type": "code",
   "execution_count": 127,
   "metadata": {},
   "outputs": [],
   "source": [
    "(x_train, y_train), (x_test, y_test) = mnist.load_data()"
   ]
  },
  {
   "cell_type": "code",
   "execution_count": 128,
   "metadata": {},
   "outputs": [
    {
     "data": {
      "text/plain": [
       "(60000, 28, 28)"
      ]
     },
     "execution_count": 128,
     "metadata": {},
     "output_type": "execute_result"
    }
   ],
   "source": [
    "x_train.shape"
   ]
  },
  {
   "cell_type": "code",
   "execution_count": 129,
   "metadata": {},
   "outputs": [],
   "source": [
    "x_train = np.array(x_train, np.float32)\n",
    "x_test = np.array(x_test, np.float32)\n",
    "\n",
    "x_train = np.reshape(x_train, [-1, 28*28])\n",
    "x_test = np.reshape(x_test, [-1, 28*28])\n",
    "\n",
    "x_train = x_train/255.\n",
    "x_test = x_test/255."
   ]
  },
  {
   "cell_type": "code",
   "execution_count": 148,
   "metadata": {},
   "outputs": [],
   "source": [
    "data = tf.data.Dataset.from_tensor_slices((x_train, y_train)).repeat().shuffle(100).batch(256)"
   ]
  },
  {
   "cell_type": "code",
   "execution_count": 131,
   "metadata": {},
   "outputs": [],
   "source": [
    "w = tf.Variable(tf.ones([28*28, 10]), name='w')\n",
    "b = tf.Variable(tf.ones([10]), name='b')\n",
    "\n",
    "# func\n",
    "def logistic_regression(x):\n",
    "    return tf.nn.softmax(tf.matmul(x, w) + b)\n",
    "\n",
    "# loss\n",
    "def cross_entroy(y_pred, y):\n",
    "    y_onehot = tf.one_hot(y, 10)\n",
    "    y_pred = tf.clip_by_value(y_pred, 1e-9, 1)\n",
    "    return tf.reduce_mean(-tf.reduce_sum(y_onehot * tf.math.log(y_pred), 1))\n",
    "\n",
    "# metrics\n",
    "def acc(y_pred, y):\n",
    "    correct = tf.equal(tf.argmax(y_pred, axis=1), tf.cast(y, tf.int64))\n",
    "    avg = tf.reduce_mean(tf.cast(correct, tf.float32))\n",
    "    return avg\n",
    "\n",
    "# optimizer\n",
    "optimizer = tf.optimizers.SGD(0.01)"
   ]
  },
  {
   "cell_type": "code",
   "execution_count": 151,
   "metadata": {},
   "outputs": [],
   "source": [
    "# Weight of shape [784, 10], the 28*28 image features, and total number of classes.\n",
    "w = tf.Variable(tf.ones([28*28, 10]), name=\"weight\")\n",
    "# Bias of shape [10], the total number of classes.\n",
    "b = tf.Variable(tf.zeros([10]), name=\"bias\")\n",
    "\n",
    "# Logistic regression (Wx + b).\n",
    "def logistic_regression(x):\n",
    "    # Apply softmax to normalize the logits to a probability distribution.\n",
    "    return tf.nn.softmax(tf.matmul(x, w) + b)\n",
    "\n",
    "# Cross-Entropy loss function.\n",
    "def cross_entropy(y_pred, y_true):\n",
    "    # Encode label to a one hot vector.\n",
    "    y_true = tf.one_hot(y_true, depth=10)\n",
    "    # Clip prediction values to avoid log(0) error.\n",
    "    y_pred = tf.clip_by_value(y_pred, 1e-9, 1.)\n",
    "    # Compute cross-entropy.\n",
    "    return tf.reduce_mean(-tf.reduce_sum(y_true * tf.math.log(y_pred),1))\n",
    "\n",
    "# Accuracy metric.\n",
    "def accuracy(y_pred, y_true):\n",
    "    # Predicted class is the index of highest score in prediction vector (i.e. argmax).\n",
    "    correct_prediction = tf.equal(tf.argmax(y_pred, 1), tf.cast(y_true, tf.int64))\n",
    "    return tf.reduce_mean(tf.cast(correct_prediction, tf.float32))\n",
    "\n",
    "# Stochastic gradient descent optimizer.\n",
    "optimizer = tf.optimizers.SGD(0.01)"
   ]
  },
  {
   "cell_type": "code",
   "execution_count": 152,
   "metadata": {},
   "outputs": [],
   "source": [
    "def train_step(x, y):\n",
    "    with tf.GradientTape() as tape:\n",
    "        y_pred = logistic_regression(x)\n",
    "        loss = cross_entroy(y_pred, y)\n",
    "    grad = tape.gradient(loss, [w, b])\n",
    "    optimizer.apply_gradients(zip(grad, [w,b]))\n",
    "    \n",
    "    return loss"
   ]
  },
  {
   "cell_type": "code",
   "execution_count": 153,
   "metadata": {},
   "outputs": [
    {
     "name": "stdout",
     "output_type": "stream",
     "text": [
      "step: 50, loss: 1.872224, accuracy: 0.703125\n",
      "step: 100, loss: 1.455467, accuracy: 0.824219\n",
      "step: 150, loss: 1.376462, accuracy: 0.796875\n",
      "step: 200, loss: 1.131896, accuracy: 0.863281\n",
      "step: 250, loss: 1.057566, accuracy: 0.839844\n",
      "step: 300, loss: 1.004309, accuracy: 0.835938\n"
     ]
    }
   ],
   "source": [
    "# Run training for the given number of steps.\n",
    "display_step=50\n",
    "training_steps=300\n",
    "for step, (batch_x, batch_y) in enumerate(data.take(training_steps), 1):\n",
    "    # Run the optimization to update W and b values.\n",
    "    train_step(batch_x, batch_y)\n",
    "    \n",
    "    if step % display_step == 0:\n",
    "        pred = logistic_regression(batch_x)\n",
    "        loss = cross_entropy(pred, batch_y)\n",
    "        acc = accuracy(pred, batch_y)\n",
    "        print(\"step: %i, loss: %f, accuracy: %f\" % (step, loss, acc))"
   ]
  },
  {
   "cell_type": "code",
   "execution_count": 134,
   "metadata": {},
   "outputs": [
    {
     "name": "stdout",
     "output_type": "stream",
     "text": [
      "s 0\n",
      "loss tf.Tensor(2.2265162, shape=(), dtype=float32)\n",
      "acc: tf.Tensor(0.73046875, shape=(), dtype=float32)\n",
      "s 50\n",
      "loss tf.Tensor(1.8123469, shape=(), dtype=float32)\n",
      "acc: tf.Tensor(0.73828125, shape=(), dtype=float32)\n",
      "s 100\n",
      "loss tf.Tensor(1.5208645, shape=(), dtype=float32)\n",
      "acc: tf.Tensor(0.81640625, shape=(), dtype=float32)\n",
      "s 150\n",
      "loss tf.Tensor(1.3529414, shape=(), dtype=float32)\n",
      "acc: tf.Tensor(0.796875, shape=(), dtype=float32)\n",
      "s 200\n",
      "loss tf.Tensor(1.1718863, shape=(), dtype=float32)\n",
      "acc: tf.Tensor(0.80078125, shape=(), dtype=float32)\n",
      "s 0\n",
      "loss tf.Tensor(1.0494598, shape=(), dtype=float32)\n",
      "acc: tf.Tensor(0.828125, shape=(), dtype=float32)\n",
      "s 50\n",
      "loss tf.Tensor(1.0671384, shape=(), dtype=float32)\n",
      "acc: tf.Tensor(0.75390625, shape=(), dtype=float32)\n",
      "s 100\n",
      "loss tf.Tensor(0.8809053, shape=(), dtype=float32)\n",
      "acc: tf.Tensor(0.85546875, shape=(), dtype=float32)\n",
      "s 150\n",
      "loss tf.Tensor(0.92793185, shape=(), dtype=float32)\n",
      "acc: tf.Tensor(0.8125, shape=(), dtype=float32)\n",
      "s 200\n",
      "loss tf.Tensor(0.81799257, shape=(), dtype=float32)\n",
      "acc: tf.Tensor(0.82421875, shape=(), dtype=float32)\n",
      "s 0\n",
      "loss tf.Tensor(0.803075, shape=(), dtype=float32)\n",
      "acc: tf.Tensor(0.84375, shape=(), dtype=float32)\n",
      "s 50\n",
      "loss tf.Tensor(0.83907056, shape=(), dtype=float32)\n",
      "acc: tf.Tensor(0.8125, shape=(), dtype=float32)\n",
      "s 100\n",
      "loss tf.Tensor(0.68917644, shape=(), dtype=float32)\n",
      "acc: tf.Tensor(0.890625, shape=(), dtype=float32)\n",
      "s 150\n",
      "loss tf.Tensor(0.7415433, shape=(), dtype=float32)\n",
      "acc: tf.Tensor(0.83984375, shape=(), dtype=float32)\n",
      "s 200\n",
      "loss tf.Tensor(0.6242827, shape=(), dtype=float32)\n",
      "acc: tf.Tensor(0.85546875, shape=(), dtype=float32)\n",
      "s 0\n",
      "loss tf.Tensor(0.6453841, shape=(), dtype=float32)\n",
      "acc: tf.Tensor(0.875, shape=(), dtype=float32)\n",
      "s 50\n",
      "loss tf.Tensor(0.81652856, shape=(), dtype=float32)\n",
      "acc: tf.Tensor(0.765625, shape=(), dtype=float32)\n",
      "s 100\n",
      "loss tf.Tensor(0.5950036, shape=(), dtype=float32)\n",
      "acc: tf.Tensor(0.890625, shape=(), dtype=float32)\n",
      "s 150\n",
      "loss tf.Tensor(0.6667615, shape=(), dtype=float32)\n",
      "acc: tf.Tensor(0.84375, shape=(), dtype=float32)\n",
      "s 200\n",
      "loss tf.Tensor(0.5869388, shape=(), dtype=float32)\n",
      "acc: tf.Tensor(0.859375, shape=(), dtype=float32)\n"
     ]
    }
   ],
   "source": [
    "for i in range(4):\n",
    "    for s, (x_batch, y_batch) in enumerate(data):\n",
    "        loss = train_step(x_batch, y_batch)\n",
    "        \n",
    "        if s % 50 == 0:\n",
    "            print('s',s)\n",
    "            print('loss', loss)\n",
    "            y_pred=logistic_regression(x_batch)\n",
    "            l = cross_entroy(y_pred, y_batch)\n",
    "            accu = acc(y_pred, y_batch)\n",
    "            print('acc:', accu)"
   ]
  },
  {
   "cell_type": "code",
   "execution_count": null,
   "metadata": {},
   "outputs": [],
   "source": []
  }
 ],
 "metadata": {
  "kernelspec": {
   "display_name": "tf2",
   "language": "python",
   "name": "tf2"
  },
  "language_info": {
   "codemirror_mode": {
    "name": "ipython",
    "version": 3
   },
   "file_extension": ".py",
   "mimetype": "text/x-python",
   "name": "python",
   "nbconvert_exporter": "python",
   "pygments_lexer": "ipython3",
   "version": "3.7.7"
  }
 },
 "nbformat": 4,
 "nbformat_minor": 4
}
