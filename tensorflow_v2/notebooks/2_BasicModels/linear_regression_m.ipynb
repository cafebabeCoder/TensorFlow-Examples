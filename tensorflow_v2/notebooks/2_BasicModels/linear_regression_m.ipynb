{
 "cells": [
  {
   "cell_type": "code",
   "execution_count": 2,
   "metadata": {},
   "outputs": [
    {
     "name": "stdout",
     "output_type": "stream",
     "text": [
      "2.2.0\n"
     ]
    }
   ],
   "source": [
    "import tensorflow as tf\n",
    "import numpy as np\n",
    "print(tf.__version__)\n"
   ]
  },
  {
   "cell_type": "code",
   "execution_count": 7,
   "metadata": {},
   "outputs": [],
   "source": [
    "x = np.random.randint(0, 10, 10)\n",
    "y = x + np.random.random(10)"
   ]
  },
  {
   "cell_type": "code",
   "execution_count": 10,
   "metadata": {},
   "outputs": [],
   "source": [
    "# 参数\n",
    "w = tf.Variable(np.random.random(), name=\"w\")\n",
    "b = tf.Variable(np.random.random(), name='b')"
   ]
  },
  {
   "cell_type": "code",
   "execution_count": 19,
   "metadata": {},
   "outputs": [],
   "source": [
    "#  linear regression\n",
    "def linear(x):\n",
    "    return w*x + b\n",
    "\n",
    "# loss\n",
    "def mean_squear_loss(y_pred, y_true):\n",
    "    return tf.reduce_mean(tf.square(y_pred, y_true))\n",
    "    \n",
    "# optimizer\n",
    "optimizer = tf.optimizers.Adam(0.1)"
   ]
  },
  {
   "cell_type": "code",
   "execution_count": 22,
   "metadata": {},
   "outputs": [],
   "source": [
    "def train_step(x, y):\n",
    "    with tf.GradientTape() as tape:\n",
    "        predict = linear(x)\n",
    "        loss = mean_squear_loss(predict, y)\n",
    "    \n",
    "    grads = tape.gradient(loss, [w, b])\n",
    "    optimizer.apply_gradients(zip(grads, [w, b]))\n",
    "    return loss"
   ]
  },
  {
   "cell_type": "code",
   "execution_count": 23,
   "metadata": {},
   "outputs": [
    {
     "name": "stdout",
     "output_type": "stream",
     "text": [
      "loss: tf.Tensor(0.028126296, shape=(), dtype=float32)\n",
      "loss: tf.Tensor(0.08400264, shape=(), dtype=float32)\n",
      "loss: tf.Tensor(0.27557993, shape=(), dtype=float32)\n",
      "loss: tf.Tensor(0.47768182, shape=(), dtype=float32)\n"
     ]
    }
   ],
   "source": [
    "for epoch in range(4):\n",
    "    loss = train_step(x, y)\n",
    "    print(\"loss:\", loss)"
   ]
  },
  {
   "cell_type": "code",
   "execution_count": null,
   "metadata": {},
   "outputs": [],
   "source": []
  }
 ],
 "metadata": {
  "kernelspec": {
   "display_name": "tf2",
   "language": "python",
   "name": "tf2"
  },
  "language_info": {
   "codemirror_mode": {
    "name": "ipython",
    "version": 3
   },
   "file_extension": ".py",
   "mimetype": "text/x-python",
   "name": "python",
   "nbconvert_exporter": "python",
   "pygments_lexer": "ipython3",
   "version": "3.7.7"
  }
 },
 "nbformat": 4,
 "nbformat_minor": 4
}
