{
 "cells": [
  {
   "cell_type": "code",
   "execution_count": 2,
   "metadata": {},
   "outputs": [],
   "source": [
    "import tensorflow as tf\n",
    "import numpy as  np"
   ]
  },
  {
   "cell_type": "code",
   "execution_count": 60,
   "metadata": {},
   "outputs": [],
   "source": [
    "# data\n",
    "(x_train, y_train), (x_test, y_test) = tf.keras.datasets.boston_housing.load_data()\n",
    "\n",
    "def to_binary(y):\n",
    "    if y > 23:\n",
    "        return 1\n",
    "    else:\n",
    "        return 0\n",
    "    \n",
    "y_binary_train = np.array([1 if y<23 else 0 for y in y_train])\n",
    "y_binary_test = np.array([1 if y<23 else 0 for y in y_test])"
   ]
  },
  {
   "cell_type": "code",
   "execution_count": 78,
   "metadata": {},
   "outputs": [],
   "source": [
    "import copy\n",
    "# Prepare Boston Housing Dataset.\n",
    "from tensorflow.keras.datasets import boston_housing\n",
    "(x_train, y_train), (x_test, y_test) = boston_housing.load_data()\n",
    "\n",
    "# For classification purpose, we build 2 classes: price greater or lower than $23,000\n",
    "def to_binary_class(y):\n",
    "    for i, label in enumerate(y):\n",
    "        if label >= 23.0:\n",
    "            y[i] = 1\n",
    "        else:\n",
    "            y[i] = 0\n",
    "    return y\n",
    "\n",
    "y_binary_train = to_binary_class(copy.deepcopy(y_train))\n",
    "y_binary_test = to_binary_class(copy.deepcopy(y_test))"
   ]
  },
  {
   "cell_type": "code",
   "execution_count": 83,
   "metadata": {},
   "outputs": [],
   "source": [
    "train_input_fn = tf.compat.v1.estimator.inputs.numpy_input_fn(\n",
    "    x = {'x':x_train},\n",
    "    y = y_binary_train,\n",
    "    batch_size = 256,\n",
    "    num_epochs=None,\n",
    "    shuffle=True)\n",
    "\n",
    "test_input_fn = tf.compat.v1.estimator.inputs.numpy_input_fn(\n",
    "    x = {'x': x_test},\n",
    "    y = y_binary_test,\n",
    "    batch_size=256,\n",
    "    num_epochs=1,\n",
    "    shuffle=False)\n",
    "\n",
    "columns = [tf.feature_column.numeric_column(key='x', shape=(13,))]"
   ]
  },
  {
   "cell_type": "code",
   "execution_count": 80,
   "metadata": {},
   "outputs": [
    {
     "name": "stdout",
     "output_type": "stream",
     "text": [
      "INFO:tensorflow:Using default config.\n",
      "WARNING:tensorflow:Using temporary folder as model directory: /tmp/tmp_d392bsw\n",
      "INFO:tensorflow:Using config: {'_model_dir': '/tmp/tmp_d392bsw', '_tf_random_seed': None, '_save_summary_steps': 100, '_save_checkpoints_steps': None, '_save_checkpoints_secs': 600, '_session_config': allow_soft_placement: true\n",
      "graph_options {\n",
      "  rewrite_options {\n",
      "    meta_optimizer_iterations: ONE\n",
      "  }\n",
      "}\n",
      ", '_keep_checkpoint_max': 5, '_keep_checkpoint_every_n_hours': 10000, '_log_step_count_steps': 100, '_train_distribute': None, '_device_fn': None, '_protocol': None, '_eval_distribute': None, '_experimental_distribute': None, '_experimental_max_worker_delay_secs': None, '_session_creation_timeout_secs': 7200, '_service': None, '_cluster_spec': ClusterSpec({}), '_task_type': 'worker', '_task_id': 0, '_global_id_in_cluster': 0, '_master': '', '_evaluation_master': '', '_is_chief': True, '_num_ps_replicas': 0, '_num_worker_replicas': 1}\n"
     ]
    }
   ],
   "source": [
    "xgb = tf.compat.v1.estimator.BoostedTreesClassifier(\n",
    "    feature_columns=columns, \n",
    "    n_batches_per_layer=1000, \n",
    "    n_classes=2, \n",
    "    n_trees=10, \n",
    "    learning_rate=1, \n",
    "    max_depth=4, \n",
    "    l1_regularization=0,\n",
    "    l2_regularization=0\n",
    ")"
   ]
  },
  {
   "cell_type": "code",
   "execution_count": 81,
   "metadata": {},
   "outputs": [
    {
     "name": "stdout",
     "output_type": "stream",
     "text": [
      "INFO:tensorflow:Calling model_fn.\n",
      "INFO:tensorflow:Done calling model_fn.\n",
      "INFO:tensorflow:Create CheckpointSaverHook.\n",
      "WARNING:tensorflow:Issue encountered when serializing resources.\n",
      "Type is unsupported, or the types of the items don't match field type in CollectionDef. Note this is a warning and probably safe to ignore.\n",
      "'_Resource' object has no attribute 'name'\n",
      "INFO:tensorflow:Graph was finalized.\n",
      "INFO:tensorflow:Running local_init_op.\n",
      "INFO:tensorflow:Done running local_init_op.\n",
      "WARNING:tensorflow:Issue encountered when serializing resources.\n",
      "Type is unsupported, or the types of the items don't match field type in CollectionDef. Note this is a warning and probably safe to ignore.\n",
      "'_Resource' object has no attribute 'name'\n",
      "INFO:tensorflow:Calling checkpoint listeners before saving checkpoint 0...\n",
      "INFO:tensorflow:Saving checkpoints for 0 into /tmp/tmp_d392bsw/model.ckpt.\n",
      "WARNING:tensorflow:Issue encountered when serializing resources.\n",
      "Type is unsupported, or the types of the items don't match field type in CollectionDef. Note this is a warning and probably safe to ignore.\n",
      "'_Resource' object has no attribute 'name'\n",
      "INFO:tensorflow:Calling checkpoint listeners after saving checkpoint 0...\n",
      "INFO:tensorflow:loss = 0.69314706, step = 0\n",
      "INFO:tensorflow:loss = 0.69314706, step = 0 (1.014 sec)\n",
      "INFO:tensorflow:loss = 0.69314706, step = 0 (0.134 sec)\n",
      "INFO:tensorflow:loss = 0.69314706, step = 0 (0.131 sec)\n",
      "INFO:tensorflow:loss = 0.69314706, step = 0 (0.130 sec)\n",
      "INFO:tensorflow:loss = 0.69314706, step = 0 (0.131 sec)\n",
      "INFO:tensorflow:loss = 0.69314706, step = 0 (0.129 sec)\n",
      "INFO:tensorflow:loss = 0.69314706, step = 0 (0.131 sec)\n",
      "INFO:tensorflow:loss = 0.69314706, step = 0 (0.137 sec)\n",
      "INFO:tensorflow:loss = 0.69314706, step = 0 (0.127 sec)\n",
      "INFO:tensorflow:loss = 0.69314706, step = 0 (0.126 sec)\n",
      "INFO:tensorflow:global_step/sec: 35.9739\n",
      "INFO:tensorflow:loss = 0.69314706, step = 100 (0.593 sec)\n",
      "INFO:tensorflow:global_step/sec: 789.116\n",
      "INFO:tensorflow:loss = 0.69314706, step = 200 (0.126 sec)\n",
      "INFO:tensorflow:global_step/sec: 742.076\n",
      "INFO:tensorflow:loss = 0.69314706, step = 300 (0.135 sec)\n",
      "INFO:tensorflow:global_step/sec: 776.989\n",
      "INFO:tensorflow:loss = 0.69314706, step = 400 (0.128 sec)\n",
      "INFO:tensorflow:global_step/sec: 760.487\n",
      "INFO:tensorflow:loss = 0.69314706, step = 500 (0.132 sec)\n",
      "INFO:tensorflow:global_step/sec: 771.335\n",
      "INFO:tensorflow:loss = 0.69314706, step = 600 (0.130 sec)\n",
      "INFO:tensorflow:global_step/sec: 733.967\n",
      "INFO:tensorflow:loss = 0.69314706, step = 700 (0.136 sec)\n",
      "INFO:tensorflow:global_step/sec: 772.039\n",
      "INFO:tensorflow:loss = 0.69314706, step = 800 (0.129 sec)\n",
      "INFO:tensorflow:global_step/sec: 777.451\n",
      "INFO:tensorflow:loss = 0.69314706, step = 900 (0.129 sec)\n",
      "INFO:tensorflow:global_step/sec: 776.402\n",
      "INFO:tensorflow:loss = 0.38903922, step = 1000 (0.129 sec)\n",
      "INFO:tensorflow:global_step/sec: 768.23\n",
      "INFO:tensorflow:loss = 0.39520574, step = 1100 (0.130 sec)\n",
      "INFO:tensorflow:global_step/sec: 745.311\n",
      "INFO:tensorflow:loss = 0.34280238, step = 1200 (0.134 sec)\n",
      "INFO:tensorflow:global_step/sec: 753.039\n",
      "INFO:tensorflow:loss = 0.41867065, step = 1300 (0.133 sec)\n",
      "INFO:tensorflow:global_step/sec: 712.675\n",
      "INFO:tensorflow:loss = 0.4014422, step = 1400 (0.141 sec)\n",
      "INFO:tensorflow:global_step/sec: 683.336\n",
      "INFO:tensorflow:loss = 0.42353308, step = 1500 (0.146 sec)\n",
      "INFO:tensorflow:global_step/sec: 741.306\n",
      "INFO:tensorflow:loss = 0.40639552, step = 1600 (0.135 sec)\n",
      "INFO:tensorflow:global_step/sec: 722.053\n",
      "INFO:tensorflow:loss = 0.4474603, step = 1700 (0.138 sec)\n",
      "INFO:tensorflow:global_step/sec: 750.03\n",
      "INFO:tensorflow:loss = 0.45322645, step = 1800 (0.133 sec)\n",
      "INFO:tensorflow:global_step/sec: 790.93\n",
      "INFO:tensorflow:loss = 0.34806523, step = 1900 (0.127 sec)\n",
      "INFO:tensorflow:global_step/sec: 744.891\n",
      "INFO:tensorflow:loss = 0.3027904, step = 2000 (0.134 sec)\n",
      "INFO:tensorflow:global_step/sec: 779.896\n",
      "INFO:tensorflow:loss = 0.371965, step = 2100 (0.128 sec)\n",
      "INFO:tensorflow:global_step/sec: 750.15\n",
      "INFO:tensorflow:loss = 0.32830507, step = 2200 (0.133 sec)\n",
      "INFO:tensorflow:global_step/sec: 778.817\n",
      "INFO:tensorflow:loss = 0.3353167, step = 2300 (0.129 sec)\n",
      "INFO:tensorflow:global_step/sec: 751.82\n",
      "INFO:tensorflow:loss = 0.3396973, step = 2400 (0.133 sec)\n",
      "INFO:tensorflow:global_step/sec: 761.696\n",
      "INFO:tensorflow:loss = 0.32719946, step = 2500 (0.131 sec)\n",
      "INFO:tensorflow:global_step/sec: 773.881\n",
      "INFO:tensorflow:loss = 0.2721733, step = 2600 (0.129 sec)\n",
      "INFO:tensorflow:global_step/sec: 751.829\n",
      "INFO:tensorflow:loss = 0.3337855, step = 2700 (0.133 sec)\n",
      "INFO:tensorflow:global_step/sec: 729.251\n",
      "INFO:tensorflow:loss = 0.33086652, step = 2800 (0.137 sec)\n",
      "INFO:tensorflow:global_step/sec: 755.514\n",
      "INFO:tensorflow:loss = 0.30954114, step = 2900 (0.134 sec)\n",
      "INFO:tensorflow:global_step/sec: 714.1\n",
      "INFO:tensorflow:Calling checkpoint listeners before saving checkpoint 3000...\n",
      "INFO:tensorflow:Saving checkpoints for 3000 into /tmp/tmp_d392bsw/model.ckpt.\n",
      "WARNING:tensorflow:Issue encountered when serializing resources.\n",
      "Type is unsupported, or the types of the items don't match field type in CollectionDef. Note this is a warning and probably safe to ignore.\n",
      "'_Resource' object has no attribute 'name'\n",
      "INFO:tensorflow:Calling checkpoint listeners after saving checkpoint 3000...\n",
      "INFO:tensorflow:Loss for final step: 0.28855032.\n"
     ]
    },
    {
     "data": {
      "text/plain": [
       "<tensorflow_estimator.python.estimator.canned.boosted_trees.BoostedTreesClassifier at 0x7f2dd6780610>"
      ]
     },
     "execution_count": 81,
     "metadata": {},
     "output_type": "execute_result"
    }
   ],
   "source": [
    "xgb.train(train_input_fn, max_steps=3000)"
   ]
  },
  {
   "cell_type": "code",
   "execution_count": 84,
   "metadata": {},
   "outputs": [
    {
     "name": "stdout",
     "output_type": "stream",
     "text": [
      "INFO:tensorflow:Calling model_fn.\n",
      "WARNING:tensorflow:Trapezoidal rule is known to produce incorrect PR-AUCs; please switch to \"careful_interpolation\" instead.\n",
      "WARNING:tensorflow:Trapezoidal rule is known to produce incorrect PR-AUCs; please switch to \"careful_interpolation\" instead.\n",
      "INFO:tensorflow:Done calling model_fn.\n",
      "INFO:tensorflow:Starting evaluation at 2020-10-15T16:43:10Z\n",
      "INFO:tensorflow:Graph was finalized.\n",
      "INFO:tensorflow:Restoring parameters from /tmp/tmp_d392bsw/model.ckpt-3000\n",
      "INFO:tensorflow:Running local_init_op.\n",
      "INFO:tensorflow:Done running local_init_op.\n",
      "INFO:tensorflow:Inference Time : 1.37128s\n",
      "INFO:tensorflow:Finished evaluation at 2020-10-15-16:43:12\n",
      "INFO:tensorflow:Saving dict for global step 3000: accuracy = 0.8235294, accuracy_baseline = 0.5588235, auc = 0.87348926, auc_precision_recall = 0.89541495, average_loss = 0.43605968, global_step = 3000, label/mean = 0.44117647, loss = 0.43605968, precision = 0.8648649, prediction/mean = 0.37173796, recall = 0.7111111\n",
      "WARNING:tensorflow:Issue encountered when serializing resources.\n",
      "Type is unsupported, or the types of the items don't match field type in CollectionDef. Note this is a warning and probably safe to ignore.\n",
      "'_Resource' object has no attribute 'name'\n",
      "INFO:tensorflow:Saving 'checkpoint_path' summary for global step 3000: /tmp/tmp_d392bsw/model.ckpt-3000\n"
     ]
    },
    {
     "data": {
      "text/plain": [
       "{'accuracy': 0.8235294,\n",
       " 'accuracy_baseline': 0.5588235,\n",
       " 'auc': 0.87348926,\n",
       " 'auc_precision_recall': 0.89541495,\n",
       " 'average_loss': 0.43605968,\n",
       " 'label/mean': 0.44117647,\n",
       " 'loss': 0.43605968,\n",
       " 'precision': 0.8648649,\n",
       " 'prediction/mean': 0.37173796,\n",
       " 'recall': 0.7111111,\n",
       " 'global_step': 3000}"
      ]
     },
     "execution_count": 84,
     "metadata": {},
     "output_type": "execute_result"
    }
   ],
   "source": [
    "xgb.evaluate(test_input_fn)"
   ]
  },
  {
   "cell_type": "code",
   "execution_count": null,
   "metadata": {},
   "outputs": [],
   "source": []
  }
 ],
 "metadata": {
  "kernelspec": {
   "display_name": "tf2",
   "language": "python",
   "name": "tf2"
  },
  "language_info": {
   "codemirror_mode": {
    "name": "ipython",
    "version": 3
   },
   "file_extension": ".py",
   "mimetype": "text/x-python",
   "name": "python",
   "nbconvert_exporter": "python",
   "pygments_lexer": "ipython3",
   "version": "3.7.7"
  }
 },
 "nbformat": 4,
 "nbformat_minor": 4
}
